{
 "cells": [
  {
   "cell_type": "code",
   "execution_count": 29,
   "id": "f293912a",
   "metadata": {},
   "outputs": [],
   "source": [
    "from pathlib import Path\n",
    "import csv\n",
    "import pandas as pd"
   ]
  },
  {
   "cell_type": "code",
   "execution_count": 30,
   "id": "c2e047cd",
   "metadata": {},
   "outputs": [
    {
     "data": {
      "text/html": [
       "<div>\n",
       "<style scoped>\n",
       "    .dataframe tbody tr th:only-of-type {\n",
       "        vertical-align: middle;\n",
       "    }\n",
       "\n",
       "    .dataframe tbody tr th {\n",
       "        vertical-align: top;\n",
       "    }\n",
       "\n",
       "    .dataframe thead th {\n",
       "        text-align: right;\n",
       "    }\n",
       "</style>\n",
       "<table border=\"1\" class=\"dataframe\">\n",
       "  <thead>\n",
       "    <tr style=\"text-align: right;\">\n",
       "      <th></th>\n",
       "      <th>Date</th>\n",
       "      <th>Profit/Losses</th>\n",
       "    </tr>\n",
       "  </thead>\n",
       "  <tbody>\n",
       "    <tr>\n",
       "      <th>0</th>\n",
       "      <td>Jan-2010</td>\n",
       "      <td>867884</td>\n",
       "    </tr>\n",
       "    <tr>\n",
       "      <th>1</th>\n",
       "      <td>Feb-2010</td>\n",
       "      <td>984655</td>\n",
       "    </tr>\n",
       "    <tr>\n",
       "      <th>2</th>\n",
       "      <td>Mar-2010</td>\n",
       "      <td>322013</td>\n",
       "    </tr>\n",
       "    <tr>\n",
       "      <th>3</th>\n",
       "      <td>Apr-2010</td>\n",
       "      <td>-69417</td>\n",
       "    </tr>\n",
       "    <tr>\n",
       "      <th>4</th>\n",
       "      <td>May-2010</td>\n",
       "      <td>310503</td>\n",
       "    </tr>\n",
       "  </tbody>\n",
       "</table>\n",
       "</div>"
      ],
      "text/plain": [
       "       Date  Profit/Losses\n",
       "0  Jan-2010         867884\n",
       "1  Feb-2010         984655\n",
       "2  Mar-2010         322013\n",
       "3  Apr-2010         -69417\n",
       "4  May-2010         310503"
      ]
     },
     "execution_count": 30,
     "metadata": {},
     "output_type": "execute_result"
    }
   ],
   "source": [
    "# Set the path\n",
    "file_path = Path(\"budget_data.csv\")\n",
    "budget_data = pd.read_csv(file_path)\n",
    "budget_data.head()"
   ]
  },
  {
   "cell_type": "code",
   "execution_count": 47,
   "id": "2d8f1cbc",
   "metadata": {},
   "outputs": [
    {
     "name": "stdout",
     "output_type": "stream",
     "text": [
      "Total Months; 86\n",
      "Total Profit/Loss: $38382578\n",
      "Average profit change Month to Month: $ -2315.1176470588234\n",
      "Greatest increase in profit: []$1926159\n",
      "Greatest decrease in profit:[] $-2196167\n"
     ]
    }
   ],
   "source": [
    "# Analysis \n",
    "Total_Months = 0 \n",
    "Average_Change = []\n",
    "Month2Month = []\n",
    "Max_profit = []\n",
    "Min_profit = []\n",
    "TPL = 0\n",
    "Max_profit_Date = []\n",
    "Min_profit_Date = []\n",
    "Profit_Loss = []\n",
    "Date = []\n",
    "\n",
    "with open (file_path, 'r') as csvfile: \n",
    "    csvreader = csv.reader(csvfile, delimiter=',')\n",
    "    header= next(csvreader)\n",
    "    for row in csvreader:\n",
    "        Total_Months+= 1\n",
    "        TPL+=int(row[1])\n",
    "        \n",
    "        Date.append(row[0])\n",
    "        \n",
    "        Profit_Loss.append(int(row[1]))\n",
    "        \n",
    "for i in range(1, len(Profit_Loss)):\n",
    "    Month2Month.append(Profit_Loss[i]- Profit_Loss[i-1])\n",
    "    Average_Change = sum(Month2Month)/len(Month2Month)\n",
    "    Max_profit = max(Month2Month)\n",
    "    Min_profit = min(Month2Month)\n",
    "    Max_profit_date = str(Date[Month2Month.index(max(Month2Month))])\n",
    "    Min_profit_date = str(Date[Month2Month.index(min(Month2Month))])\n",
    "    \n",
    "print(f\"Total Months; {Total_Months}\")\n",
    "print(f\"Total Profit/Loss: ${TPL}\")\n",
    "print(f\"Average profit change Month to Month: $ {Average_Change}\")\n",
    "print(f\"Greatest increase in profit: {Max_profit_Date}${Max_profit}\")\n",
    "print(f\"Greatest decrease in profit:{Min_profit_Date} ${Min_profit}\")\n",
    "\n",
    "\n",
    "\n"
   ]
  },
  {
   "cell_type": "code",
   "execution_count": 51,
   "id": "8d153268",
   "metadata": {},
   "outputs": [],
   "source": [
    "file_to_output = Path(\"budget_analysis.txt\")"
   ]
  },
  {
   "cell_type": "code",
   "execution_count": 56,
   "id": "63f6eb29",
   "metadata": {},
   "outputs": [],
   "source": [
    "# Export the results to text file\n",
    "with open(file_to_output, \"w\") as txt_file:\n",
    "    txt_file.write(f\"Financial Analysis\\n\")\n",
    "    txt_file.write(f\"-------------------\\n\")\n",
    "    txt_file.write(f\"Total Months: {Total_Months}\\n\")\n",
    "    txt_file.write(f\"Total: ${TPL}\\n\")\n",
    "    txt_file.write(f\"Average Change: ${Average_Change}\\n\")\n",
    "    txt_file.write(f\"Greatest increase in profit:{Max_profit_date} ${Max_profit}\\n\")\n",
    "    txt_file.write(f\"Greatest decrease in profit:{Min_profit_date} ${Min_profit}\\n\")\n"
   ]
  },
  {
   "cell_type": "code",
   "execution_count": null,
   "id": "f4b40bf6",
   "metadata": {},
   "outputs": [],
   "source": []
  }
 ],
 "metadata": {
  "kernelspec": {
   "display_name": "Python 3",
   "language": "python",
   "name": "python3"
  },
  "language_info": {
   "codemirror_mode": {
    "name": "ipython",
    "version": 3
   },
   "file_extension": ".py",
   "mimetype": "text/x-python",
   "name": "python",
   "nbconvert_exporter": "python",
   "pygments_lexer": "ipython3",
   "version": "3.8.5"
  }
 },
 "nbformat": 4,
 "nbformat_minor": 5
}
